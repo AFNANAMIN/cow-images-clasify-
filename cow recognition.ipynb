{
 "cells": [
  {
   "cell_type": "code",
   "execution_count": 2,
   "metadata": {},
   "outputs": [
    {
     "name": "stderr",
     "output_type": "stream",
     "text": [
      "Using TensorFlow backend.\n"
     ]
    }
   ],
   "source": [
    "##import python libraries\n",
    "import os,  random,cv2\n",
    "import numpy as np\n",
    "import pandas as pd\n",
    "from sklearn.model_selection import train_test_split\n",
    "from sklearn.metrics import log_loss\n",
    "from sklearn.preprocessing import LabelEncoder\n",
    "\n",
    "import matplotlib.pyplot as plt\n",
    "from matplotlib import ticker\n",
    "import seaborn as sns\n",
    "%matplotlib inline \n",
    "\n",
    "##import keras using tensorflow backend\n",
    "from keras.models import Sequential\n",
    "from keras.layers import Dropout, Flatten, Convolution2D, MaxPooling2D, ZeroPadding2D, Dense, Activation\n",
    "from keras.optimizers import RMSprop, Adam\n",
    "from keras.callbacks import EarlyStopping\n",
    "from keras.utils import np_utils\n",
    "from keras import backend as K\n",
    "##for resizing the image to 90*160 pixel and used color images that's why channel =3\n",
    "ROWS = 90 #720\n",
    "COLS = 160\n",
    "channel=3"
   ]
  },
  {
   "cell_type": "code",
   "execution_count": 3,
   "metadata": {},
   "outputs": [
    {
     "name": "stdout",
     "output_type": "stream",
     "text": [
      "50 photos of right\n",
      "60 photos of left\n",
      "89 photos of front\n",
      "72 photos of other\n"
     ]
    }
   ],
   "source": [
    "TRAIN_DIR='D:/book/images/images/'\n",
    "from sklearn.model_selection import train_test_split\n",
    "##four classes for cow in \"other\" folder there are multiple cow pics in one image \n",
    "COW_CLASSES = ['right','left','front','other']\n",
    "import os\n",
    "\n",
    "def get_images(cow):\n",
    "    \"\"\"Load files from train folder\"\"\"\n",
    "    cow_dir = TRAIN_DIR+'{}'.format(cow)\n",
    "    images = [cow+'/'+im for im in os.listdir(cow_dir)]\n",
    "    return images\n",
    "##read and resize images through opencv\n",
    "def read_image(src):\n",
    "    \"\"\"Read and resize individual images\"\"\"\n",
    "    im = cv2.imread(src)\n",
    "    im = cv2.resize(im, (COLS, ROWS), interpolation=cv2.INTER_CUBIC)\n",
    "    return im\n",
    "files = []\n",
    "y_all = []\n",
    "##this loop count all photos in multiple folder\n",
    "for cow in COW_CLASSES:\n",
    "    cow_files = get_images(cow)\n",
    "    files.extend(cow_files)\n",
    "    \n",
    "    y_cow = np.tile(cow, len(cow_files))\n",
    "    y_all.extend(y_cow)\n",
    "    print(\"{0} photos of {1}\".format(len(cow_files), cow))\n",
    "    \n",
    "y_all = np.array(y_all)"
   ]
  },
  {
   "cell_type": "code",
   "execution_count": 4,
   "metadata": {
    "scrolled": true
   },
   "outputs": [
    {
     "name": "stdout",
     "output_type": "stream",
     "text": [
      "Processed 0 of 271\n",
      "Processed 50 of 271\n",
      "Processed 100 of 271\n",
      "Processed 150 of 271\n",
      "Processed 200 of 271\n",
      "Processed 250 of 271\n",
      "(271, 90, 160, 3)\n"
     ]
    }
   ],
   "source": [
    "X_all = np.ndarray((len(files), ROWS, COLS,channel), dtype=np.uint8)\n",
    "##this loop transfer all images to 90*160 pixel\n",
    "for i, im in enumerate(files): \n",
    "    X_all[i] = read_image(TRAIN_DIR+im)\n",
    "    if i%50 == 0: print('Processed {} of {}'.format(i, len(files)))\n",
    "\n",
    "print(X_all.shape)"
   ]
  },
  {
   "cell_type": "code",
   "execution_count": 5,
   "metadata": {},
   "outputs": [
    {
     "name": "stderr",
     "output_type": "stream",
     "text": [
      "C:\\Users\\Afnan\\Anaconda3\\envs\\tensorflow\\lib\\site-packages\\ipykernel_launcher.py:11: UserWarning: Update your `Conv2D` call to the Keras 2 API: `Conv2D(32, (5, 5), activation=\"relu\", data_format=\"channels_last\", padding=\"same\")`\n",
      "  # This is added back by InteractiveShellApp.init_path()\n",
      "C:\\Users\\Afnan\\Anaconda3\\envs\\tensorflow\\lib\\site-packages\\ipykernel_launcher.py:12: UserWarning: Update your `Conv2D` call to the Keras 2 API: `Conv2D(32, (5, 5), activation=\"relu\", data_format=\"channels_last\", padding=\"same\")`\n",
      "  if sys.path[0] == '':\n",
      "C:\\Users\\Afnan\\Anaconda3\\envs\\tensorflow\\lib\\site-packages\\ipykernel_launcher.py:13: UserWarning: Update your `MaxPooling2D` call to the Keras 2 API: `MaxPooling2D(data_format=\"channels_last\", pool_size=(2, 2))`\n",
      "  del sys.path[0]\n",
      "C:\\Users\\Afnan\\Anaconda3\\envs\\tensorflow\\lib\\site-packages\\ipykernel_launcher.py:15: UserWarning: Update your `Conv2D` call to the Keras 2 API: `Conv2D(64, (3, 3), activation=\"relu\", data_format=\"channels_last\", padding=\"same\")`\n",
      "  from ipykernel import kernelapp as app\n",
      "C:\\Users\\Afnan\\Anaconda3\\envs\\tensorflow\\lib\\site-packages\\ipykernel_launcher.py:16: UserWarning: Update your `Conv2D` call to the Keras 2 API: `Conv2D(64, (3, 3), activation=\"relu\", data_format=\"channels_last\", padding=\"same\")`\n",
      "  app.launch_new_instance()\n",
      "C:\\Users\\Afnan\\Anaconda3\\envs\\tensorflow\\lib\\site-packages\\ipykernel_launcher.py:18: UserWarning: Update your `MaxPooling2D` call to the Keras 2 API: `MaxPooling2D(data_format=\"channels_last\", pool_size=(2, 2))`\n",
      "C:\\Users\\Afnan\\Anaconda3\\envs\\tensorflow\\lib\\site-packages\\ipykernel_launcher.py:20: UserWarning: Update your `Conv2D` call to the Keras 2 API: `Conv2D(128, (3, 3), activation=\"relu\", data_format=\"channels_last\", padding=\"same\")`\n",
      "C:\\Users\\Afnan\\Anaconda3\\envs\\tensorflow\\lib\\site-packages\\ipykernel_launcher.py:21: UserWarning: Update your `Conv2D` call to the Keras 2 API: `Conv2D(128, (3, 3), activation=\"relu\", data_format=\"channels_last\", padding=\"same\")`\n",
      "C:\\Users\\Afnan\\Anaconda3\\envs\\tensorflow\\lib\\site-packages\\ipykernel_launcher.py:23: UserWarning: Update your `MaxPooling2D` call to the Keras 2 API: `MaxPooling2D(data_format=\"channels_last\", pool_size=(2, 2))`\n",
      "C:\\Users\\Afnan\\Anaconda3\\envs\\tensorflow\\lib\\site-packages\\ipykernel_launcher.py:25: UserWarning: Update your `Conv2D` call to the Keras 2 API: `Conv2D(256, (3, 3), activation=\"relu\", data_format=\"channels_last\", padding=\"same\")`\n",
      "C:\\Users\\Afnan\\Anaconda3\\envs\\tensorflow\\lib\\site-packages\\ipykernel_launcher.py:26: UserWarning: Update your `Conv2D` call to the Keras 2 API: `Conv2D(256, (3, 3), activation=\"relu\", data_format=\"channels_last\", padding=\"same\")`\n",
      "C:\\Users\\Afnan\\Anaconda3\\envs\\tensorflow\\lib\\site-packages\\ipykernel_launcher.py:27: UserWarning: Update your `MaxPooling2D` call to the Keras 2 API: `MaxPooling2D(data_format=\"channels_last\", pool_size=(2, 2))`\n"
     ]
    }
   ],
   "source": [
    "##cnn model it uses gradient descent optimizer rmsprop and for loss uses categorical cross entropy\n",
    "##and activation function for hidden layer uses relu and for output layer uses softmax \n",
    "\n",
    "optimizer = RMSprop(lr=1e-4)\n",
    "objective = 'categorical_crossentropy'\n",
    "\n",
    "def center_normalize(x):\n",
    "    return (x - K.mean(x)) / K.std(x)\n",
    "\n",
    "model = Sequential()\n",
    "\n",
    "model.add(Activation(activation=center_normalize, input_shape=(ROWS, COLS, channel)))\n",
    "\n",
    "model.add(Convolution2D(32, 5, 5, border_mode='same', activation='relu', dim_ordering='tf'))\n",
    "model.add(Convolution2D(32, 5, 5, border_mode='same', activation='relu', dim_ordering='tf'))\n",
    "model.add(MaxPooling2D(pool_size=(2, 2), dim_ordering='tf'))\n",
    "\n",
    "model.add(Convolution2D(64, 3, 3, border_mode='same', activation='relu', dim_ordering='tf'))\n",
    "model.add(Convolution2D(64, 3, 3, border_mode='same', activation='relu', dim_ordering='tf'))\n",
    "\n",
    "model.add(MaxPooling2D(pool_size=(2, 2), dim_ordering='tf'))\n",
    "\n",
    "model.add(Convolution2D(128, 3, 3, border_mode='same', activation='relu', dim_ordering='tf'))\n",
    "model.add(Convolution2D(128, 3, 3, border_mode='same', activation='relu', dim_ordering='tf'))\n",
    "\n",
    "model.add(MaxPooling2D(pool_size=(2, 2), dim_ordering='tf'))\n",
    "\n",
    "model.add(Convolution2D(256, 3, 3, border_mode='same', activation='relu', dim_ordering='tf'))\n",
    "model.add(Convolution2D(256, 3, 3, border_mode='same', activation='relu', dim_ordering='tf'))\n",
    "model.add(MaxPooling2D(pool_size=(2, 2), dim_ordering='tf'))\n",
    "\n",
    "\n",
    "model.add(Flatten())\n",
    "model.add(Dense(256, activation='relu'))\n",
    "model.add(Dropout(0.5))\n",
    "\n",
    "model.add(Dense(64, activation='relu'))\n",
    "model.add(Dropout(0.5))\n",
    "\n",
    "model.add(Dense(len(COW_CLASSES)))\n",
    "model.add(Activation('softmax'))\n",
    "\n",
    "model.compile(loss=objective, optimizer=optimizer)"
   ]
  },
  {
   "cell_type": "code",
   "execution_count": 6,
   "metadata": {},
   "outputs": [],
   "source": [
    "# One Hot Encoding Labels\n",
    "y_all = LabelEncoder().fit_transform(y_all)\n",
    "y_all = np_utils.to_categorical(y_all)\n",
    "\n",
    "X_train, X_valid, y_train, y_valid = train_test_split(X_all, y_all, \n",
    "                                                    test_size=0.2, random_state=23, \n",
    "                                                    stratify=y_all)"
   ]
  },
  {
   "cell_type": "code",
   "execution_count": 30,
   "metadata": {},
   "outputs": [
    {
     "name": "stderr",
     "output_type": "stream",
     "text": [
      "C:\\Users\\Afnan\\Anaconda3\\envs\\tensorflow\\lib\\site-packages\\ipykernel_launcher.py:4: UserWarning: The `nb_epoch` argument in `fit` has been renamed `epochs`.\n",
      "  after removing the cwd from sys.path.\n"
     ]
    },
    {
     "name": "stdout",
     "output_type": "stream",
     "text": [
      "Train on 172 samples, validate on 44 samples\n",
      "Epoch 1/50\n",
      "172/172 [==============================] - 7s 41ms/step - loss: 0.6869 - val_loss: 1.0832\n",
      "Epoch 2/50\n",
      "172/172 [==============================] - 7s 39ms/step - loss: 0.6013 - val_loss: 1.3572\n",
      "Epoch 3/50\n",
      "172/172 [==============================] - 7s 39ms/step - loss: 0.5267 - val_loss: 1.2054\n",
      "Epoch 4/50\n",
      "172/172 [==============================] - 7s 39ms/step - loss: 0.6810 - val_loss: 1.1905\n",
      "Epoch 5/50\n",
      "172/172 [==============================] - 7s 39ms/step - loss: 0.5253 - val_loss: 1.1708\n",
      "Epoch 6/50\n",
      "172/172 [==============================] - 7s 39ms/step - loss: 0.4858 - val_loss: 1.2204\n",
      "Epoch 7/50\n",
      "172/172 [==============================] - 7s 39ms/step - loss: 0.5511 - val_loss: 1.1713\n",
      "Epoch 8/50\n",
      "172/172 [==============================] - 7s 39ms/step - loss: 0.4375 - val_loss: 1.2388\n",
      "Epoch 9/50\n",
      "172/172 [==============================] - 7s 39ms/step - loss: 0.5201 - val_loss: 1.3736\n",
      "Epoch 10/50\n",
      "172/172 [==============================] - 7s 39ms/step - loss: 0.6302 - val_loss: 1.2472\n",
      "Epoch 11/50\n",
      "172/172 [==============================] - 7s 39ms/step - loss: 0.4295 - val_loss: 1.2996\n",
      "Epoch 12/50\n",
      "172/172 [==============================] - 7s 39ms/step - loss: 0.3547 - val_loss: 1.4342\n",
      "Epoch 13/50\n",
      "172/172 [==============================] - 7s 39ms/step - loss: 0.3835 - val_loss: 1.2792\n",
      "Epoch 14/50\n",
      "172/172 [==============================] - 7s 39ms/step - loss: 0.3783 - val_loss: 1.3281\n",
      "Epoch 15/50\n",
      "172/172 [==============================] - 7s 39ms/step - loss: 0.3434 - val_loss: 1.3876\n",
      "Epoch 16/50\n",
      "172/172 [==============================] - 7s 39ms/step - loss: 0.3543 - val_loss: 1.3785\n",
      "Epoch 17/50\n",
      "172/172 [==============================] - 7s 39ms/step - loss: 0.2179 - val_loss: 1.6210\n",
      "Epoch 18/50\n",
      "172/172 [==============================] - 7s 39ms/step - loss: 0.3299 - val_loss: 1.5885\n",
      "Epoch 19/50\n",
      "172/172 [==============================] - 7s 39ms/step - loss: 0.3123 - val_loss: 1.4057\n",
      "Epoch 20/50\n",
      "172/172 [==============================] - 7s 39ms/step - loss: 0.2465 - val_loss: 1.4396\n",
      "Epoch 21/50\n",
      "172/172 [==============================] - 7s 40ms/step - loss: 0.4152 - val_loss: 1.3793\n",
      "Epoch 22/50\n",
      "172/172 [==============================] - 7s 39ms/step - loss: 0.2140 - val_loss: 1.5029\n",
      "Epoch 23/50\n",
      "172/172 [==============================] - 7s 39ms/step - loss: 0.3024 - val_loss: 1.4202\n",
      "Epoch 24/50\n",
      "172/172 [==============================] - 7s 39ms/step - loss: 0.3034 - val_loss: 1.5217\n",
      "Epoch 25/50\n",
      "172/172 [==============================] - 7s 39ms/step - loss: 0.1937 - val_loss: 1.5416\n",
      "Epoch 26/50\n",
      "172/172 [==============================] - 7s 39ms/step - loss: 0.1903 - val_loss: 1.6993\n",
      "Epoch 27/50\n",
      "172/172 [==============================] - 7s 39ms/step - loss: 0.1739 - val_loss: 1.9458\n",
      "Epoch 28/50\n",
      "172/172 [==============================] - 7s 39ms/step - loss: 0.3138 - val_loss: 1.4395\n",
      "Epoch 29/50\n",
      "172/172 [==============================] - 7s 39ms/step - loss: 0.1874 - val_loss: 1.7327\n",
      "Epoch 30/50\n",
      "172/172 [==============================] - 7s 39ms/step - loss: 0.2205 - val_loss: 1.6900\n",
      "Epoch 31/50\n",
      "172/172 [==============================] - 7s 39ms/step - loss: 0.1817 - val_loss: 1.5027\n",
      "Epoch 32/50\n",
      "172/172 [==============================] - 7s 39ms/step - loss: 0.1414 - val_loss: 1.4903\n",
      "Epoch 33/50\n",
      "172/172 [==============================] - 7s 39ms/step - loss: 0.2175 - val_loss: 1.7856\n",
      "Epoch 34/50\n",
      "172/172 [==============================] - 7s 39ms/step - loss: 0.1213 - val_loss: 1.6675\n",
      "Epoch 35/50\n",
      "172/172 [==============================] - 7s 39ms/step - loss: 0.1469 - val_loss: 1.8402\n",
      "Epoch 36/50\n",
      "172/172 [==============================] - 7s 39ms/step - loss: 0.1991 - val_loss: 1.6841\n",
      "Epoch 37/50\n",
      "172/172 [==============================] - 7s 40ms/step - loss: 0.1384 - val_loss: 2.0556\n",
      "Epoch 38/50\n",
      "172/172 [==============================] - 7s 40ms/step - loss: 0.1354 - val_loss: 2.0009\n",
      "Epoch 39/50\n",
      "172/172 [==============================] - 7s 40ms/step - loss: 0.2644 - val_loss: 2.1603\n",
      "Epoch 40/50\n",
      "172/172 [==============================] - 7s 40ms/step - loss: 0.1799 - val_loss: 1.6086\n",
      "Epoch 41/50\n",
      "172/172 [==============================] - 7s 41ms/step - loss: 0.1309 - val_loss: 1.8606\n",
      "Epoch 42/50\n",
      "172/172 [==============================] - 7s 41ms/step - loss: 0.1653 - val_loss: 1.9199\n",
      "Epoch 43/50\n",
      "172/172 [==============================] - 7s 41ms/step - loss: 0.0996 - val_loss: 2.1028\n",
      "Epoch 44/50\n",
      "172/172 [==============================] - 7s 40ms/step - loss: 0.1076 - val_loss: 2.2103\n",
      "Epoch 45/50\n",
      "172/172 [==============================] - 7s 40ms/step - loss: 0.1579 - val_loss: 2.0150\n",
      "Epoch 46/50\n",
      "172/172 [==============================] - 7s 39ms/step - loss: 0.1211 - val_loss: 1.8678\n",
      "Epoch 47/50\n",
      "172/172 [==============================] - 7s 40ms/step - loss: 0.0765 - val_loss: 2.2241\n",
      "Epoch 48/50\n",
      "172/172 [==============================] - 7s 39ms/step - loss: 0.1424 - val_loss: 2.2306\n",
      "Epoch 49/50\n",
      "172/172 [==============================] - 7s 39ms/step - loss: 0.1355 - val_loss: 2.3337\n",
      "Epoch 50/50\n",
      "172/172 [==============================] - 7s 40ms/step - loss: 0.0979 - val_loss: 2.4680\n"
     ]
    },
    {
     "data": {
      "text/plain": [
       "<keras.callbacks.History at 0x2d839dde10>"
      ]
     },
     "execution_count": 30,
     "metadata": {},
     "output_type": "execute_result"
    }
   ],
   "source": [
    "##early_stopping = EarlyStopping(monitor='val_loss', patience=4, verbose=1, mode='auto')\n",
    "##firstly train model with early stopping to avoid overfitting but this not works well loss  stops at 0.66 but without \n",
    "##early stopping my training loss is 0.09 \n",
    "        \n",
    "        \n",
    "model.fit(X_train, y_train, batch_size=32, nb_epoch=50,\n",
    "              validation_split=0.2, verbose=1, shuffle=True)"
   ]
  },
  {
   "cell_type": "code",
   "execution_count": 31,
   "metadata": {},
   "outputs": [
    {
     "name": "stdout",
     "output_type": "stream",
     "text": [
      "55/55 [==============================] - 1s 18ms/step\n",
      "Validation Log Loss: 2.3746939093967696\n"
     ]
    }
   ],
   "source": [
    "\n",
    "preds = model.predict(X_valid, verbose=1)\n",
    "print(\"Validation Log Loss: {}\".format(log_loss(y_valid, preds)))"
   ]
  },
  {
   "cell_type": "code",
   "execution_count": 32,
   "metadata": {},
   "outputs": [
    {
     "name": "stdout",
     "output_type": "stream",
     "text": [
      "\r",
      "8/8 [==============================] - 2s 278ms/step\n"
     ]
    }
   ],
   "source": [
    "TEST_DIR='D:/book/images/images/test_pose/'\n",
    "test_files = [im for im in os.listdir(TEST_DIR)]\n",
    "test = np.ndarray((len(test_files), ROWS, COLS, channel), dtype=np.uint8)\n",
    "##for testing this loop read images from test folder\n",
    "for i, im in enumerate(test_files): \n",
    "    test[i] = read_image(TEST_DIR+im)\n",
    "    \n",
    "test_preds = model.predict(test, verbose=1)\n",
    "#test_preds = model.predict(test, verbose=1)"
   ]
  },
  {
   "cell_type": "code",
   "execution_count": 39,
   "metadata": {},
   "outputs": [
    {
     "data": {
      "text/html": [
       "<div>\n",
       "<style scoped>\n",
       "    .dataframe tbody tr th:only-of-type {\n",
       "        vertical-align: middle;\n",
       "    }\n",
       "\n",
       "    .dataframe tbody tr th {\n",
       "        vertical-align: top;\n",
       "    }\n",
       "\n",
       "    .dataframe thead th {\n",
       "        text-align: right;\n",
       "    }\n",
       "</style>\n",
       "<table border=\"1\" class=\"dataframe\">\n",
       "  <thead>\n",
       "    <tr style=\"text-align: right;\">\n",
       "      <th></th>\n",
       "      <th>image</th>\n",
       "      <th>right</th>\n",
       "      <th>left</th>\n",
       "      <th>front</th>\n",
       "      <th>other</th>\n",
       "    </tr>\n",
       "  </thead>\n",
       "  <tbody>\n",
       "    <tr>\n",
       "      <th>0</th>\n",
       "      <td>IMAG0639.jpg</td>\n",
       "      <td>5.520527e-02</td>\n",
       "      <td>0.062076</td>\n",
       "      <td>0.875244</td>\n",
       "      <td>0.007475</td>\n",
       "    </tr>\n",
       "    <tr>\n",
       "      <th>1</th>\n",
       "      <td>IMAG0709.jpg</td>\n",
       "      <td>1.752191e-05</td>\n",
       "      <td>0.002630</td>\n",
       "      <td>0.000024</td>\n",
       "      <td>0.997328</td>\n",
       "    </tr>\n",
       "    <tr>\n",
       "      <th>2</th>\n",
       "      <td>IMAG0780.jpg</td>\n",
       "      <td>8.186417e-01</td>\n",
       "      <td>0.004197</td>\n",
       "      <td>0.107473</td>\n",
       "      <td>0.069688</td>\n",
       "    </tr>\n",
       "    <tr>\n",
       "      <th>3</th>\n",
       "      <td>IMAG0796.jpg</td>\n",
       "      <td>8.863588e-01</td>\n",
       "      <td>0.050141</td>\n",
       "      <td>0.062732</td>\n",
       "      <td>0.000769</td>\n",
       "    </tr>\n",
       "    <tr>\n",
       "      <th>4</th>\n",
       "      <td>IMG_20180513_120755.jpg</td>\n",
       "      <td>9.227803e-07</td>\n",
       "      <td>0.976003</td>\n",
       "      <td>0.023757</td>\n",
       "      <td>0.000239</td>\n",
       "    </tr>\n",
       "    <tr>\n",
       "      <th>5</th>\n",
       "      <td>IMG_20180513_120940.jpg</td>\n",
       "      <td>9.596821e-01</td>\n",
       "      <td>0.022230</td>\n",
       "      <td>0.006323</td>\n",
       "      <td>0.011765</td>\n",
       "    </tr>\n",
       "    <tr>\n",
       "      <th>6</th>\n",
       "      <td>left_pose.jpg</td>\n",
       "      <td>3.987280e-05</td>\n",
       "      <td>0.996762</td>\n",
       "      <td>0.000360</td>\n",
       "      <td>0.002838</td>\n",
       "    </tr>\n",
       "    <tr>\n",
       "      <th>7</th>\n",
       "      <td>left_pose2.jpg</td>\n",
       "      <td>1.344890e-03</td>\n",
       "      <td>0.985727</td>\n",
       "      <td>0.003995</td>\n",
       "      <td>0.008933</td>\n",
       "    </tr>\n",
       "  </tbody>\n",
       "</table>\n",
       "</div>"
      ],
      "text/plain": [
       "                     image         right      left     front     other\n",
       "0             IMAG0639.jpg  5.520527e-02  0.062076  0.875244  0.007475\n",
       "1             IMAG0709.jpg  1.752191e-05  0.002630  0.000024  0.997328\n",
       "2             IMAG0780.jpg  8.186417e-01  0.004197  0.107473  0.069688\n",
       "3             IMAG0796.jpg  8.863588e-01  0.050141  0.062732  0.000769\n",
       "4  IMG_20180513_120755.jpg  9.227803e-07  0.976003  0.023757  0.000239\n",
       "5  IMG_20180513_120940.jpg  9.596821e-01  0.022230  0.006323  0.011765\n",
       "6            left_pose.jpg  3.987280e-05  0.996762  0.000360  0.002838\n",
       "7           left_pose2.jpg  1.344890e-03  0.985727  0.003995  0.008933"
      ]
     },
     "execution_count": 39,
     "metadata": {},
     "output_type": "execute_result"
    }
   ],
   "source": [
    "submission = pd.DataFrame(test_preds, columns=COW_CLASSES)\n",
    "submission.insert(0, 'image', test_files)\n",
    "submission"
   ]
  },
  {
   "cell_type": "code",
   "execution_count": 43,
   "metadata": {},
   "outputs": [
    {
     "data": {
      "text/plain": [
       "<matplotlib.image.AxesImage at 0x2d82249710>"
      ]
     },
     "execution_count": 43,
     "metadata": {},
     "output_type": "execute_result"
    },
    {
     "data": {
      "image/png": "[encoded data removed]",
      "text/plain": [
       "<matplotlib.figure.Figure at 0x2d839cfe48>"
      ]
     },
     "metadata": {},
     "output_type": "display_data"
    }
   ],
   "source": [
    "plt.imshow(cv2.cvtColor(X_all[5],cv2.COLOR_BGR2RGB))"
   ]
  },
  {
   "cell_type": "code",
   "execution_count": 44,
   "metadata": {},
   "outputs": [
    {
     "data": {
      "text/plain": [
       "array([0., 0., 0., 1.], dtype=float32)"
      ]
     },
     "execution_count": 44,
     "metadata": {},
     "output_type": "execute_result"
    }
   ],
   "source": [
    "y_all[5]"
   ]
  },
  {
   "cell_type": "code",
   "execution_count": 15,
   "metadata": {},
   "outputs": [
    {
     "name": "stdout",
     "output_type": "stream",
     "text": [
      "[[22. 28.]\n",
      " [49. 64.]]\n"
     ]
    }
   ],
   "source": [
    "import tensorflow as tf\n",
    "with tf.device('/gpu:0'):\n",
    "    a = tf.constant([1.0, 2.0, 3.0, 4.0, 5.0, 6.0], shape=[2, 3], name='a')\n",
    "    b = tf.constant([1.0, 2.0, 3.0, 4.0, 5.0, 6.0], shape=[3, 2], name='b')\n",
    "    c = tf.matmul(a, b)\n",
    "with tf.Session() as sess:\n",
    "    print (sess.run(c))"
   ]
  },
  {
   "cell_type": "code",
   "execution_count": null,
   "metadata": {},
   "outputs": [],
   "source": []
  }
 ],
 "metadata": {
  "kernelspec": {
   "display_name": "Python 3",
   "language": "python",
   "name": "python3"
  },
  "language_info": {
   "codemirror_mode": {
    "name": "ipython",
    "version": 3
   },
   "file_extension": ".py",
   "mimetype": "text/x-python",
   "name": "python",
   "nbconvert_exporter": "python",
   "pygments_lexer": "ipython3",
   "version": "3.5.4"
  }
 },
 "nbformat": 4,
 "nbformat_minor": 2
}
